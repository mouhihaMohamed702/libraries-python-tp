{
 "cells": [
  {
   "cell_type": "markdown",
   "id": "5836c54f",
   "metadata": {},
   "source": [
    "# tp 3\n",
    "## par : MOUHIHA Mohamed\n"
   ]
  },
  {
   "cell_type": "markdown",
   "id": "84bc9613",
   "metadata": {},
   "source": [
    "##  Numpy :\n"
   ]
  },
  {
   "cell_type": "markdown",
   "id": "da3f2130",
   "metadata": {},
   "source": [
    "### question 1:"
   ]
  },
  {
   "cell_type": "code",
   "execution_count": 2,
   "id": "7597622c",
   "metadata": {},
   "outputs": [],
   "source": [
    "import numpy as np"
   ]
  },
  {
   "cell_type": "code",
   "execution_count": 3,
   "id": "6b9859e5",
   "metadata": {},
   "outputs": [],
   "source": [
    "a=np.array([1,2,3,4])"
   ]
  },
  {
   "cell_type": "code",
   "execution_count": 4,
   "id": "98c0e186",
   "metadata": {},
   "outputs": [],
   "source": [
    "b=np.array([[1,2,3],[4,5,6]])"
   ]
  },
  {
   "cell_type": "code",
   "execution_count": 5,
   "id": "7568858a",
   "metadata": {},
   "outputs": [],
   "source": [
    "x= np.linspace(-np.pi/2,np.pi/2, 3)\n"
   ]
  },
  {
   "cell_type": "code",
   "execution_count": 6,
   "id": "1a93f885",
   "metadata": {},
   "outputs": [
    {
     "data": {
      "text/plain": [
       "array([-1.57079633,  0.        ,  1.57079633])"
      ]
     },
     "execution_count": 6,
     "metadata": {},
     "output_type": "execute_result"
    }
   ],
   "source": [
    "x"
   ]
  },
  {
   "cell_type": "code",
   "execution_count": 7,
   "id": "5c42911a",
   "metadata": {},
   "outputs": [],
   "source": [
    "y=np.sin(x)"
   ]
  },
  {
   "cell_type": "code",
   "execution_count": 8,
   "id": "6cb2e5b8",
   "metadata": {},
   "outputs": [
    {
     "data": {
      "text/plain": [
       "array([-1.,  0.,  1.])"
      ]
     },
     "execution_count": 8,
     "metadata": {},
     "output_type": "execute_result"
    }
   ],
   "source": [
    "y"
   ]
  },
  {
   "cell_type": "code",
   "execution_count": 9,
   "id": "44c2d91e",
   "metadata": {},
   "outputs": [],
   "source": [
    "a= np.array([\n",
    "    [1,2,3],\n",
    "    [4,5,6]\n",
    "])"
   ]
  },
  {
   "cell_type": "code",
   "execution_count": 10,
   "id": "36080169",
   "metadata": {},
   "outputs": [],
   "source": [
    "b= np.array([\n",
    "    [4],\n",
    "    [2],\n",
    "    [1]\n",
    "])"
   ]
  },
  {
   "cell_type": "markdown",
   "id": "7f4415a4",
   "metadata": {},
   "source": [
    "### question3 : e calculer le produit matriciel.\n"
   ]
  },
  {
   "cell_type": "code",
   "execution_count": 11,
   "id": "c6ff04d1",
   "metadata": {},
   "outputs": [
    {
     "data": {
      "text/plain": [
       "array([[11],\n",
       "       [32]])"
      ]
     },
     "execution_count": 11,
     "metadata": {},
     "output_type": "execute_result"
    }
   ],
   "source": [
    "np.dot(a,b)"
   ]
  },
  {
   "cell_type": "code",
   "execution_count": 48,
   "id": "851c64d4",
   "metadata": {},
   "outputs": [],
   "source": [
    "import cv2\n",
    "ing_array = cv2.imread(\"produitma.png\", cv2.IMREAD_GRAYSCALE)"
   ]
  },
  {
   "cell_type": "code",
   "execution_count": 49,
   "id": "2d7c5915",
   "metadata": {},
   "outputs": [
    {
     "data": {
      "text/plain": [
       "<matplotlib.image.AxesImage at 0x14444881d30>"
      ]
     },
     "execution_count": 49,
     "metadata": {},
     "output_type": "execute_result"
    },
    {
     "data": {
      "image/png": "[encoded data removed]",
      "text/plain": [
       "<Figure size 432x288 with 1 Axes>"
      ]
     },
     "metadata": {
      "needs_background": "light"
     },
     "output_type": "display_data"
    }
   ],
   "source": [
    "plt.imshow(ing_array, cmap=\"gray\")"
   ]
  },
  {
   "cell_type": "markdown",
   "id": "615e9597",
   "metadata": {},
   "source": [
    "#### alors cest de meme"
   ]
  },
  {
   "cell_type": "markdown",
   "id": "4ea1c4ed",
   "metadata": {},
   "source": [
    "### question4 : Calculer le produit matriciel A*B."
   ]
  },
  {
   "cell_type": "code",
   "execution_count": 12,
   "id": "180c4275",
   "metadata": {},
   "outputs": [],
   "source": [
    "A= np.array([\n",
    "    [1,2,3],\n",
    "    [4,5,6]\n",
    "])"
   ]
  },
  {
   "cell_type": "code",
   "execution_count": 13,
   "id": "7d07fb98",
   "metadata": {},
   "outputs": [],
   "source": [
    "B= np.array([\n",
    "    [4,0],\n",
    "    [3,1],\n",
    "    [0,5]\n",
    "])"
   ]
  },
  {
   "cell_type": "markdown",
   "id": "b957d73b",
   "metadata": {},
   "source": [
    "### le produit matriciel A*B\n"
   ]
  },
  {
   "cell_type": "code",
   "execution_count": 19,
   "id": "4170182e",
   "metadata": {},
   "outputs": [
    {
     "data": {
      "text/plain": [
       "array([[10, 17],\n",
       "       [31, 35]])"
      ]
     },
     "execution_count": 19,
     "metadata": {},
     "output_type": "execute_result"
    }
   ],
   "source": [
    "np.dot(A,B)"
   ]
  },
  {
   "cell_type": "markdown",
   "id": "f93268f5",
   "metadata": {},
   "source": [
    "### question 5:trouver la valeur maximale et minimale d'un tableau"
   ]
  },
  {
   "cell_type": "code",
   "execution_count": 20,
   "id": "5f3b0fde",
   "metadata": {},
   "outputs": [],
   "source": [
    "maximumA = np.amax(A)"
   ]
  },
  {
   "cell_type": "code",
   "execution_count": 21,
   "id": "2c7460cc",
   "metadata": {},
   "outputs": [],
   "source": [
    "maximumB = np.amax(B)"
   ]
  },
  {
   "cell_type": "code",
   "execution_count": 22,
   "id": "c9c53ce3",
   "metadata": {},
   "outputs": [
    {
     "data": {
      "text/plain": [
       "6"
      ]
     },
     "execution_count": 22,
     "metadata": {},
     "output_type": "execute_result"
    }
   ],
   "source": [
    "maximumA"
   ]
  },
  {
   "cell_type": "code",
   "execution_count": 23,
   "id": "d13807e9",
   "metadata": {},
   "outputs": [
    {
     "data": {
      "text/plain": [
       "5"
      ]
     },
     "execution_count": 23,
     "metadata": {},
     "output_type": "execute_result"
    }
   ],
   "source": [
    "maximumB"
   ]
  },
  {
   "cell_type": "code",
   "execution_count": null,
   "id": "a17388a8",
   "metadata": {},
   "outputs": [],
   "source": []
  },
  {
   "cell_type": "code",
   "execution_count": 24,
   "id": "1e77764f",
   "metadata": {},
   "outputs": [
    {
     "data": {
      "text/plain": [
       "array([-2.,  0.])"
      ]
     },
     "execution_count": 24,
     "metadata": {},
     "output_type": "execute_result"
    }
   ],
   "source": [
    "C = np.poly1d([1, 2,0]) \n",
    "root_of_poly = C.r\n",
    "##D=np.roots(C)\n",
    "##D\n",
    "root_of_poly"
   ]
  },
  {
   "cell_type": "markdown",
   "id": "b2fa69cd",
   "metadata": {},
   "source": [
    "### question 7 : un programme NumPy pour calculer la somme et la multiplication des deux polynômes : P(x) = x²+2x et Q(x) = 4x²+1."
   ]
  },
  {
   "cell_type": "code",
   "execution_count": 25,
   "id": "a56b02b5",
   "metadata": {},
   "outputs": [],
   "source": [
    "px = (1, 2,0)"
   ]
  },
  {
   "cell_type": "code",
   "execution_count": 26,
   "id": "40963a21",
   "metadata": {},
   "outputs": [],
   "source": [
    "qx = (4,0,1)"
   ]
  },
  {
   "cell_type": "code",
   "execution_count": 27,
   "id": "bcca571c",
   "metadata": {},
   "outputs": [],
   "source": [
    "rx = np.polynomial.polynomial.polymul(px, qx) "
   ]
  },
  {
   "cell_type": "code",
   "execution_count": 28,
   "id": "b7846341",
   "metadata": {},
   "outputs": [
    {
     "data": {
      "text/plain": [
       "array([4., 8., 1., 2.])"
      ]
     },
     "execution_count": 28,
     "metadata": {},
     "output_type": "execute_result"
    }
   ],
   "source": [
    "rx"
   ]
  },
  {
   "cell_type": "markdown",
   "id": "fbacbea9",
   "metadata": {},
   "source": []
  },
  {
   "cell_type": "markdown",
   "id": "699f7711",
   "metadata": {},
   "source": [
    "## Matplotlib :"
   ]
  },
  {
   "cell_type": "code",
   "execution_count": 29,
   "id": "eeeaf809",
   "metadata": {},
   "outputs": [],
   "source": [
    "import matplotlib.pyplot as plt"
   ]
  },
  {
   "cell_type": "code",
   "execution_count": 11,
   "id": "30448596",
   "metadata": {},
   "outputs": [
    {
     "data": {
      "image/png": "[encoded data removed]",
      "text/plain": [
       "<Figure size 432x288 with 1 Axes>"
      ]
     },
     "metadata": {
      "needs_background": "light"
     },
     "output_type": "display_data"
    }
   ],
   "source": [
    "x=np.linspace(-5,5,100)# obtenir un tableau 1d contient 100 points entre -5 et 5\n",
    "plt.plot(x,np.sin(x))# la fonction plot prend en arguments deux variables x et y (abssus et coordonnes)\n",
    "plt.ylabel(\"fonction sinus\")\n",
    "plt.xlabel(\"l'axe des abcisses\")\n",
    "plt.show()\n"
   ]
  },
  {
   "cell_type": "markdown",
   "id": "72d7365c",
   "metadata": {},
   "source": [
    "\n",
    "# plt.close() permet de fermer le figure courant"
   ]
  },
  {
   "cell_type": "code",
   "execution_count": 47,
   "id": "909f4cfc",
   "metadata": {},
   "outputs": [
    {
     "data": {
      "text/plain": [
       "(-3.141592653589793, 3.141592653589793, -1.0, 1.0)"
      ]
     },
     "execution_count": 47,
     "metadata": {},
     "output_type": "execute_result"
    },
    {
     "data": {
      "image/png": "[encoded data removed]",
      "text/plain": [
       "<Figure size 432x288 with 1 Axes>"
      ]
     },
     "metadata": {
      "needs_background": "light"
     },
     "output_type": "display_data"
    }
   ],
   "source": [
    " x=np.linspace(-np.pi,np.pi,100)\n",
    "plt.plot(x,np.sin(x),color=\"red\", linewidth=2.5, linestyle=\"-.\", label=\"sinus\")\n",
    "plt.plot(x,np.cos(x),color=\"blue\", linewidth=2.5, linestyle=\":\", label=\"cosinus\")\n",
    "plt.legend(loc='upper left')\n",
    "plt.axis([-np.pi,np.pi,-1,1])\n",
    "\n",
    "\n"
   ]
  },
  {
   "cell_type": "markdown",
   "id": "f454ebc2",
   "metadata": {},
   "source": [
    "### Exercice 1 :\n"
   ]
  },
  {
   "cell_type": "code",
   "execution_count": 3,
   "id": "8f7df619",
   "metadata": {},
   "outputs": [
    {
     "data": {
      "image/png": "[encoded data removed]",
      "text/plain": [
       "<Figure size 432x288 with 1 Axes>"
      ]
     },
     "metadata": {
      "needs_background": "light"
     },
     "output_type": "display_data"
    }
   ],
   "source": [
    "from pylab import *\n",
    "𝑣0 =10\n",
    "g =9.81\n",
    "x=2.039\n",
    "t=linspace(0,x,100)\n",
    "y=g*t-0.5*g*t**2\n",
    "plt.ylabel(\"hauteur (m)\")\n",
    "plt.xlabel(\"temps (s)\")\n",
    "plot(t,y,'b')\n",
    "show()"
   ]
  },
  {
   "cell_type": "markdown",
   "id": "1d2db33e",
   "metadata": {},
   "source": [
    "### Exercice 2 \n"
   ]
  },
  {
   "cell_type": "code",
   "execution_count": 6,
   "id": "68ec8abc",
   "metadata": {},
   "outputs": [
    {
     "data": {
      "text/plain": [
       "[<matplotlib.lines.Line2D at 0x22a63cbc220>]"
      ]
     },
     "execution_count": 6,
     "metadata": {},
     "output_type": "execute_result"
    },
    {
     "data": {
      "image/png": "[encoded data removed]",
      "text/plain": [
       "<Figure size 432x288 with 1 Axes>"
      ]
     },
     "metadata": {
      "needs_background": "light"
     },
     "output_type": "display_data"
    }
   ],
   "source": [
    "pi=3.14\n",
    "t=linspace(0,100)\n",
    "x=linspace(-4,4,100)\n",
    "#  𝑓(𝑥,𝑡) = 𝑒−(𝑥−3𝑡)²sin(3𝜋(𝑥 − 𝑡))\n",
    "# pou t=0\n",
    "z=0\n",
    "y=np.exp(-(x**2))*np.sin(3*pi*x)\n",
    "plt.xlabel(\"x\")\n",
    "plt.ylabel(\"f(x,t)/t=0\")\n",
    "grid()\n",
    "plot(x,y,'r')\n",
    "\n",
    "\n",
    "\n"
   ]
  },
  {
   "cell_type": "code",
   "execution_count": null,
   "id": "b2b89d10",
   "metadata": {},
   "outputs": [],
   "source": [
    "# test la fonction exp pour bien compris le fonctionnement de linspace ...\n",
    "pi=3.14\n",
    "x=linspace(0,1,100)\n",
    "\n",
    "#  \n",
    "\n",
    "y=np.exp(x)\n",
    "plt.xlabel(\"x\")\n",
    "plt.ylabel(\"y\")\n",
    "grid()\n",
    "plot(x,y,'r')"
   ]
  },
  {
   "cell_type": "code",
   "execution_count": null,
   "id": "27cbdbf4",
   "metadata": {},
   "outputs": [],
   "source": []
  }
 ],
 "metadata": {
  "kernelspec": {
   "display_name": "Python 3 (ipykernel)",
   "language": "python",
   "name": "python3"
  },
  "language_info": {
   "codemirror_mode": {
    "name": "ipython",
    "version": 3
   },
   "file_extension": ".py",
   "mimetype": "text/x-python",
   "name": "python",
   "nbconvert_exporter": "python",
   "pygments_lexer": "ipython3",
   "version": "3.9.7"
  }
 },
 "nbformat": 4,
 "nbformat_minor": 5
}
